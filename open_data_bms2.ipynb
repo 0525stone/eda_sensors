{
 "cells": [
  {
   "cell_type": "markdown",
   "id": "8676acaf-9f67-4fc3-a02e-ac8ddedc5ca9",
   "metadata": {},
   "source": [
    "## 250801 Open Data"
   ]
  },
  {
   "cell_type": "markdown",
   "id": "8033b712-f00b-4e44-9317-ec707515f492",
   "metadata": {},
   "source": [
    "#### import"
   ]
  },
  {
   "cell_type": "code",
   "execution_count": 1,
   "id": "353b7a6d-5645-43e2-a8e0-a50f1ef7bdfb",
   "metadata": {},
   "outputs": [
    {
     "name": "stdout",
     "output_type": "stream",
     "text": [
      "Requirement already satisfied: numpy in c:\\users\\admin\\anaconda3\\envs\\bms\\lib\\site-packages (2.3.2)\n"
     ]
    }
   ],
   "source": [
    "!pip install numpy "
   ]
  },
  {
   "cell_type": "code",
   "execution_count": 2,
   "id": "dbd4708e-92da-4a17-a9dc-0804fabf6742",
   "metadata": {},
   "outputs": [],
   "source": [
    "import os\n",
    "import matplotlib.pyplot as plt\n",
    "import pandas as pd\n",
    "import numpy as np"
   ]
  },
  {
   "cell_type": "code",
   "execution_count": 3,
   "id": "f429f744-cbed-4319-9614-fb4b85bede4a",
   "metadata": {},
   "outputs": [
    {
     "name": "stdout",
     "output_type": "stream",
     "text": [
      " C 드라이브의 볼륨에는 이름이 없습니다.\n",
      " 볼륨 일련 번호: 6A68-0B4D\n",
      "\n",
      " C:\\git\\data\\bms2\\Training\\training 디렉터리\n",
      "\n",
      "2025-08-01  오후 04:58    <DIR>          .\n",
      "2025-08-01  오후 04:58    <DIR>          ..\n",
      "2025-07-30  오후 10:51        23,057,847 d1_out_training.csv\n",
      "2025-07-30  오후 10:51        17,666,329 d2_in_training.csv\n",
      "2025-07-30  오후 10:51         6,267,068 d3_noise_training.csv\n",
      "2025-07-30  오후 10:51         9,231,547 d4_other_training.csv\n",
      "2025-07-30  오후 10:51        23,818,831 d5_normal_training.csv\n",
      "               5개 파일          80,041,622 바이트\n",
      "               2개 디렉터리  1,420,050,235,392 바이트 남음\n"
     ]
    }
   ],
   "source": [
    "# !powershell pwd\n",
    "!dir \"../data/bms2/Training/training\""
   ]
  },
  {
   "cell_type": "code",
   "execution_count": 4,
   "id": "09ec937e-f49a-49a7-80fb-941adcd653bc",
   "metadata": {},
   "outputs": [
    {
     "name": "stdout",
     "output_type": "stream",
     "text": [
      "           site                 sid     ldate  lrate  llevel leaktype  0HZ  \\\n",
      "0  S-4687025030  S-0359369085120315  20200708     90     256      out    0   \n",
      "1  S-4677025028  S-0359369083968368  20190601     90     542      out    0   \n",
      "2  S-4673025027  S-0359369085133797  20201028     90     705      out    0   \n",
      "3  S-4772025022  S-0359369084117593  20200505     90     499      out    0   \n",
      "4  S-4729010102  S-0359369084010178  20200520     90     423      out    0   \n",
      "\n",
      "   10HZ  20HZ  30HZ  ...  MAX10  MAX11  MAX12  MAX13  MAX14  MAX15  MAX16  \\\n",
      "0    18    19    16  ...   4690    243   4710    284   4700    324   4670   \n",
      "1     4     2     4  ...    310    423    300    711    270    412    270   \n",
      "2     0     0     3  ...    240    751    240    897    240    741    240   \n",
      "3     2     2     2  ...    370    549    360    427    370    800    370   \n",
      "4     3     3     3  ...    400    521    400    395    400    461    400   \n",
      "\n",
      "   MAX17  MAX18  MAX19  \n",
      "0    230   4710    260  \n",
      "1    531    290    538  \n",
      "2    741    240    562  \n",
      "3    552    370    458  \n",
      "4    470    400    515  \n",
      "\n",
      "[5 rows x 539 columns]\n",
      "Index(['site', 'sid', 'ldate', 'lrate', 'llevel', 'leaktype', '0HZ', '10HZ',\n",
      "       '20HZ', '30HZ',\n",
      "       ...\n",
      "       'MAX10', 'MAX11', 'MAX12', 'MAX13', 'MAX14', 'MAX15', 'MAX16', 'MAX17',\n",
      "       'MAX18', 'MAX19'],\n",
      "      dtype='object', length=539)\n",
      "(17539, 539)\n"
     ]
    }
   ],
   "source": [
    "dict_savename = {\"d1_out_training\" : \"d1out_\"}\n",
    "\n",
    "d_name = \"d1_out_training\"\n",
    "filename =  f\"../data/bms2/Training/training/{d_name}.csv\"\n",
    "\n",
    "df = pd.read_csv(filename)\n",
    "\n",
    "# 데이터 확인\n",
    "print(df.head())        # 상위 5개 행\n",
    "print(df.columns)       # 컬럼명 출력\n",
    "print(df.shape)         # (행 수, 열 수)"
   ]
  },
  {
   "cell_type": "code",
   "execution_count": 5,
   "id": "5deb3aa9-b8f2-4bf2-9771-91f67dde6c6d",
   "metadata": {},
   "outputs": [],
   "source": [
    "df_keys = df.keys()"
   ]
  },
  {
   "cell_type": "code",
   "execution_count": 6,
   "id": "798cef9b-6d88-4f22-8dbe-1683c46ce8c5",
   "metadata": {},
   "outputs": [
    {
     "data": {
      "text/plain": [
       "539"
      ]
     },
     "execution_count": 6,
     "metadata": {},
     "output_type": "execute_result"
    }
   ],
   "source": [
    "len(df_keys)"
   ]
  },
  {
   "cell_type": "code",
   "execution_count": 7,
   "id": "e9ef26fd-9140-4df7-9532-6c9a94a4237d",
   "metadata": {},
   "outputs": [
    {
     "name": "stdout",
     "output_type": "stream",
     "text": [
      "0 data 18\n",
      "1 data 4\n",
      "2 data 0\n",
      "3 data 2\n",
      "4 data 3\n",
      "5 data 5\n",
      "6 data 17\n",
      "7 data 3\n",
      "8 data 6\n",
      "9 data 6\n"
     ]
    }
   ],
   "source": [
    "for idx, d_10 in enumerate(df['10HZ']):\n",
    "    if idx < 10:\n",
    "        print(f\"{idx} data {d_10}\")"
   ]
  },
  {
   "cell_type": "markdown",
   "id": "dee4f9c0-230a-441c-9dd9-2a3686918427",
   "metadata": {},
   "source": [
    "### 분석 알고리즘\n",
    "- "
   ]
  },
  {
   "cell_type": "code",
   "execution_count": 8,
   "id": "1240bf33-cda7-4132-8aec-a83943bf6b93",
   "metadata": {},
   "outputs": [
    {
     "data": {
      "text/plain": [
       "89"
      ]
     },
     "execution_count": 8,
     "metadata": {},
     "output_type": "execute_result"
    }
   ],
   "source": [
    "len(df_keys)//6"
   ]
  },
  {
   "cell_type": "code",
   "execution_count": 9,
   "id": "0b3f2864-de3d-43be-8510-b2d129287d70",
   "metadata": {
    "scrolled": true
   },
   "outputs": [
    {
     "name": "stdout",
     "output_type": "stream",
     "text": [
      "site\tsid\tldate\tlrate\tllevel\tleaktype\n",
      "0HZ\t10HZ\t20HZ\t30HZ\t40HZ\t50HZ\n",
      "60HZ\t70HZ\t80HZ\t90HZ\t100HZ\t110HZ\n",
      "120HZ\t130HZ\t140HZ\t150HZ\t160HZ\t170HZ\n",
      "180HZ\t190HZ\t200HZ\t210HZ\t220HZ\t230HZ\n",
      "240HZ\t250HZ\t260HZ\t270HZ\t280HZ\t290HZ\n",
      "300HZ\t310HZ\t320HZ\t330HZ\t340HZ\t350HZ\n",
      "360HZ\t370HZ\t380HZ\t390HZ\t400HZ\t410HZ\n",
      "420HZ\t430HZ\t440HZ\t450HZ\t460HZ\t470HZ\n",
      "480HZ\t490HZ\t500HZ\t510HZ\t520HZ\t530HZ\n",
      "540HZ\t550HZ\t560HZ\t570HZ\t580HZ\t590HZ\n",
      "600HZ\t610HZ\t620HZ\t630HZ\t640HZ\t650HZ\n",
      "660HZ\t670HZ\t680HZ\t690HZ\t700HZ\t710HZ\n",
      "720HZ\t730HZ\t740HZ\t750HZ\t760HZ\t770HZ\n",
      "780HZ\t790HZ\t800HZ\t810HZ\t820HZ\t830HZ\n",
      "840HZ\t850HZ\t860HZ\t870HZ\t880HZ\t890HZ\n",
      "900HZ\t910HZ\t920HZ\t930HZ\t940HZ\t950HZ\n",
      "960HZ\t970HZ\t980HZ\t990HZ\t1000HZ\t1010HZ\n",
      "1020HZ\t1030HZ\t1040HZ\t1050HZ\t1060HZ\t1070HZ\n",
      "1080HZ\t1090HZ\t1100HZ\t1110HZ\t1120HZ\t1130HZ\n",
      "1140HZ\t1150HZ\t1160HZ\t1170HZ\t1180HZ\t1190HZ\n",
      "1200HZ\t1210HZ\t1220HZ\t1230HZ\t1240HZ\t1250HZ\n",
      "1260HZ\t1270HZ\t1280HZ\t1290HZ\t1300HZ\t1310HZ\n",
      "1320HZ\t1330HZ\t1340HZ\t1350HZ\t1360HZ\t1370HZ\n",
      "1380HZ\t1390HZ\t1400HZ\t1410HZ\t1420HZ\t1430HZ\n",
      "1440HZ\t1450HZ\t1460HZ\t1470HZ\t1480HZ\t1490HZ\n",
      "1500HZ\t1510HZ\t1520HZ\t1530HZ\t1540HZ\t1550HZ\n",
      "1560HZ\t1570HZ\t1580HZ\t1590HZ\t1600HZ\t1610HZ\n",
      "1620HZ\t1630HZ\t1640HZ\t1650HZ\t1660HZ\t1670HZ\n",
      "1680HZ\t1690HZ\t1700HZ\t1710HZ\t1720HZ\t1730HZ\n",
      "1740HZ\t1750HZ\t1760HZ\t1770HZ\t1780HZ\t1790HZ\n",
      "1800HZ\t1810HZ\t1820HZ\t1830HZ\t1840HZ\t1850HZ\n",
      "1860HZ\t1870HZ\t1880HZ\t1890HZ\t1900HZ\t1910HZ\n",
      "1920HZ\t1930HZ\t1940HZ\t1950HZ\t1960HZ\t1970HZ\n",
      "1980HZ\t1990HZ\t2000HZ\t2010HZ\t2020HZ\t2030HZ\n",
      "2040HZ\t2050HZ\t2060HZ\t2070HZ\t2080HZ\t2090HZ\n",
      "2100HZ\t2110HZ\t2120HZ\t2130HZ\t2140HZ\t2150HZ\n",
      "2160HZ\t2170HZ\t2180HZ\t2190HZ\t2200HZ\t2210HZ\n",
      "2220HZ\t2230HZ\t2240HZ\t2250HZ\t2260HZ\t2270HZ\n",
      "2280HZ\t2290HZ\t2300HZ\t2310HZ\t2320HZ\t2330HZ\n",
      "2340HZ\t2350HZ\t2360HZ\t2370HZ\t2380HZ\t2390HZ\n",
      "2400HZ\t2410HZ\t2420HZ\t2430HZ\t2440HZ\t2450HZ\n",
      "2460HZ\t2470HZ\t2480HZ\t2490HZ\t2500HZ\t2510HZ\n",
      "2520HZ\t2530HZ\t2540HZ\t2550HZ\t2560HZ\t2570HZ\n",
      "2580HZ\t2590HZ\t2600HZ\t2610HZ\t2620HZ\t2630HZ\n",
      "2640HZ\t2650HZ\t2660HZ\t2670HZ\t2680HZ\t2690HZ\n",
      "2700HZ\t2710HZ\t2720HZ\t2730HZ\t2740HZ\t2750HZ\n",
      "2760HZ\t2770HZ\t2780HZ\t2790HZ\t2800HZ\t2810HZ\n",
      "2820HZ\t2830HZ\t2840HZ\t2850HZ\t2860HZ\t2870HZ\n",
      "2880HZ\t2890HZ\t2900HZ\t2910HZ\t2920HZ\t2930HZ\n",
      "2940HZ\t2950HZ\t2960HZ\t2970HZ\t2980HZ\t2990HZ\n",
      "3000HZ\t3010HZ\t3020HZ\t3030HZ\t3040HZ\t3050HZ\n",
      "3060HZ\t3070HZ\t3080HZ\t3090HZ\t3100HZ\t3110HZ\n",
      "3120HZ\t3130HZ\t3140HZ\t3150HZ\t3160HZ\t3170HZ\n",
      "3180HZ\t3190HZ\t3200HZ\t3210HZ\t3220HZ\t3230HZ\n",
      "3240HZ\t3250HZ\t3260HZ\t3270HZ\t3280HZ\t3290HZ\n",
      "3300HZ\t3310HZ\t3320HZ\t3330HZ\t3340HZ\t3350HZ\n",
      "3360HZ\t3370HZ\t3380HZ\t3390HZ\t3400HZ\t3410HZ\n",
      "3420HZ\t3430HZ\t3440HZ\t3450HZ\t3460HZ\t3470HZ\n",
      "3480HZ\t3490HZ\t3500HZ\t3510HZ\t3520HZ\t3530HZ\n",
      "3540HZ\t3550HZ\t3560HZ\t3570HZ\t3580HZ\t3590HZ\n",
      "3600HZ\t3610HZ\t3620HZ\t3630HZ\t3640HZ\t3650HZ\n",
      "3660HZ\t3670HZ\t3680HZ\t3690HZ\t3700HZ\t3710HZ\n",
      "3720HZ\t3730HZ\t3740HZ\t3750HZ\t3760HZ\t3770HZ\n",
      "3780HZ\t3790HZ\t3800HZ\t3810HZ\t3820HZ\t3830HZ\n",
      "3840HZ\t3850HZ\t3860HZ\t3870HZ\t3880HZ\t3890HZ\n",
      "3900HZ\t3910HZ\t3920HZ\t3930HZ\t3940HZ\t3950HZ\n",
      "3960HZ\t3970HZ\t3980HZ\t3990HZ\t4000HZ\t4010HZ\n",
      "4020HZ\t4030HZ\t4040HZ\t4050HZ\t4060HZ\t4070HZ\n",
      "4080HZ\t4090HZ\t4100HZ\t4110HZ\t4120HZ\t4130HZ\n",
      "4140HZ\t4150HZ\t4160HZ\t4170HZ\t4180HZ\t4190HZ\n",
      "4200HZ\t4210HZ\t4220HZ\t4230HZ\t4240HZ\t4250HZ\n",
      "4260HZ\t4270HZ\t4280HZ\t4290HZ\t4300HZ\t4310HZ\n",
      "4320HZ\t4330HZ\t4340HZ\t4350HZ\t4360HZ\t4370HZ\n",
      "4380HZ\t4390HZ\t4400HZ\t4410HZ\t4420HZ\t4430HZ\n",
      "4440HZ\t4450HZ\t4460HZ\t4470HZ\t4480HZ\t4490HZ\n",
      "4500HZ\t4510HZ\t4520HZ\t4530HZ\t4540HZ\t4550HZ\n",
      "4560HZ\t4570HZ\t4580HZ\t4590HZ\t4600HZ\t4610HZ\n",
      "4620HZ\t4630HZ\t4640HZ\t4650HZ\t4660HZ\t4670HZ\n",
      "4680HZ\t4690HZ\t4700HZ\t4710HZ\t4720HZ\t4730HZ\n",
      "4740HZ\t4750HZ\t4760HZ\t4770HZ\t4780HZ\t4790HZ\n",
      "4800HZ\t4810HZ\t4820HZ\t4830HZ\t4840HZ\t4850HZ\n",
      "4860HZ\t4870HZ\t4880HZ\t4890HZ\t4900HZ\t4910HZ\n",
      "4920HZ\t4930HZ\t4940HZ\t4950HZ\t4960HZ\t4970HZ\n",
      "4980HZ\t4990HZ\t5000HZ\t5010HZ\t5020HZ\t5030HZ\n",
      "5040HZ\t5050HZ\t5060HZ\t5070HZ\t5080HZ\t5090HZ\n",
      "5100HZ\t5110HZ\t5120HZ\tMAX0\tMAX1\tMAX2\n",
      "MAX3\tMAX4\tMAX5\tMAX6\tMAX7\tMAX8\n",
      "MAX9\tMAX10\tMAX11\tMAX12\tMAX13\tMAX14\n",
      "MAX15\tMAX16\tMAX17\tMAX18\tMAX19\t\n"
     ]
    }
   ],
   "source": [
    "# Keys 확인\n",
    "n_temp = len(df_keys)//6\n",
    "for i in range(n_temp):\n",
    "    print(f\"{df_keys[i*6]}\\t{df_keys[i*6+1]}\\t{df_keys[i*6+2]}\\t{df_keys[i*6+3]}\\t{df_keys[i*6+4]}\\t{df_keys[i*6+5]}\")\n",
    "print(f\"{df_keys[n_temp*6]}\\t{df_keys[n_temp*6+1]}\\t{df_keys[n_temp*6+2]}\\t{df_keys[n_temp*6+3]}\\t{df_keys[n_temp*6+4]}\\t\")"
   ]
  },
  {
   "cell_type": "code",
   "execution_count": 10,
   "id": "6510d5de-fbc3-435f-9fde-63243d49cbb5",
   "metadata": {},
   "outputs": [
    {
     "name": "stdout",
     "output_type": "stream",
     "text": [
      "17539\n",
      "(17539, 513)\n"
     ]
    }
   ],
   "source": [
    "keys_hz = []\n",
    "for k in df_keys:\n",
    "    if \"HZ\" in k:\n",
    "        keys_hz.append(k)\n",
    "\n",
    "# 17539\n",
    "print(len(df['10HZ']))\n",
    "\n",
    "# # 1. 값을 넣기위해서 array 정의\n",
    "# rows, cols = len(df['10HZ']), len(keys_hz)\n",
    "# arr_d = [[0 for _ in range(cols)] for _ in range(rows)]\n",
    "\n",
    "# for ti in range(len(df['10HZ'])):\n",
    "#     for idx, k in enumerate(keys_hz):\n",
    "#         arr_d[ti][idx] = df[k][ti]\n",
    "\n",
    "# 2. 데이터를 Numpy array에 담아서 확인\n",
    "rows, cols = len(df['10HZ']), len(keys_hz)\n",
    "arr_d = np.zeros((rows, cols), dtype=np.float64)\n",
    "\n",
    "for i in range(len(df['10HZ'])):\n",
    "    for j, k in enumerate(keys_hz):\n",
    "        arr_d[i, j] = df[k][i]\n",
    "\n",
    "print(arr_d.shape)"
   ]
  },
  {
   "cell_type": "code",
   "execution_count": 11,
   "id": "cfa73536-5b86-4f91-88cd-d658b0e0dd32",
   "metadata": {
    "scrolled": true
   },
   "outputs": [
    {
     "ename": "KeyError",
     "evalue": "'graph/d1_out_training'",
     "output_type": "error",
     "traceback": [
      "\u001b[31m---------------------------------------------------------------------------\u001b[39m",
      "\u001b[31mKeyError\u001b[39m                                  Traceback (most recent call last)",
      "\u001b[36mCell\u001b[39m\u001b[36m \u001b[39m\u001b[32mIn[11]\u001b[39m\u001b[32m, line 15\u001b[39m\n\u001b[32m     11\u001b[39m plt.xlabel(\u001b[33m\"\u001b[39m\u001b[33mHZ\u001b[39m\u001b[33m\"\u001b[39m)\n\u001b[32m     12\u001b[39m plt.ylabel(\u001b[33m\"\u001b[39m\u001b[33mValue\u001b[39m\u001b[33m\"\u001b[39m)\n\u001b[32m---> \u001b[39m\u001b[32m15\u001b[39m filename = \u001b[33mf\u001b[39m\u001b[33m\"\u001b[39m\u001b[38;5;132;01m{\u001b[39;00m\u001b[43mdict_savename\u001b[49m\u001b[43m[\u001b[49m\u001b[33;43m\"\u001b[39;49m\u001b[33;43mgraph/d1_out_training\u001b[39;49m\u001b[33;43m\"\u001b[39;49m\u001b[43m]\u001b[49m\u001b[38;5;132;01m}\u001b[39;00m\u001b[33m_\u001b[39m\u001b[38;5;132;01m{\u001b[39;00mi\u001b[38;5;132;01m}\u001b[39;00m\u001b[33m.png\u001b[39m\u001b[33m\"\u001b[39m\n\u001b[32m     16\u001b[39m plt.savefig(filename, dpi=\u001b[32m150\u001b[39m, bbox_inches=\u001b[33m\"\u001b[39m\u001b[33mtight\u001b[39m\u001b[33m\"\u001b[39m)\n\u001b[32m     17\u001b[39m plt.close()\n",
      "\u001b[31mKeyError\u001b[39m: 'graph/d1_out_training'"
     ]
    },
    {
     "data": {
      "image/png": "[encoded data removed]",
      "text/plain": [
       "<Figure size 1200x400 with 1 Axes>"
      ]
     },
     "metadata": {},
     "output_type": "display_data"
    }
   ],
   "source": [
    "# bar 형 그래프 확인 후 저장\n",
    "n = 10 # len(df['10HZ'])\n",
    "\n",
    "for i in range(n):\n",
    "    if (i+1)%10 ==0:\n",
    "        print(f\"{(i+1//10)*10} saving\")\n",
    "    \n",
    "    plt.figure(figsize=(12, 4))\n",
    "    plt.bar(keys_hz,arr_d[i], width=1.0, color=\"steelblue\")\n",
    "    plt.title(f\"Spectrum at lrate = {df[\"lrate\"][i]}%   leak level = {df[\"llevel\"][i]}\")\n",
    "    plt.xlabel(\"HZ\")\n",
    "    plt.ylabel(\"Value\")\n",
    "\n",
    "    \n",
    "    filename = f\"{dict_savename[\"graph/d1_out_training\"]}_{i}.png\"\n",
    "    plt.savefig(filename, dpi=150, bbox_inches=\"tight\")\n",
    "    plt.close()\n",
    "    \n",
    "    \n"
   ]
  },
  {
   "cell_type": "code",
   "execution_count": null,
   "id": "fcc6a5d1-abae-4094-b6bd-069e543c128a",
   "metadata": {},
   "outputs": [],
   "source": [
    "dict_savename = {\"d5_normal_training\":\"d5normal_\"}\n",
    "# \"d1_out_training\" : \"d1out_\", \"d2_in_training\" : \"d2in_\", \"d3_noise_training\" : \"d3nose_\", \"d4_other_training\" : \"d4other_\", \n",
    "samplename =  f\"../data/bms2/Training/training/d5_normal_training.csv\"\n",
    "df_sample = pd.read_csv(samplename)\n",
    "df_keys = df_sample.keys()\n",
    "\n",
    "\n",
    "keys_hz = []\n",
    "for k in df_keys:\n",
    "    if \"HZ\" in k:\n",
    "        keys_hz.append(k)\n",
    "\n",
    "\n",
    "for d_name in dict_savename.keys():\n",
    "    print(d_name)\n",
    "    print(dict_savename[d_name])\n",
    "    \n",
    "    filename =  f\"../data/bms2/Training/training/{d_name}.csv\"\n",
    "\n",
    "    df = pd.read_csv(filename)\n",
    "\n",
    "    # 데이터 확인\n",
    "    # print(df.head())        # 상위 5개 행\n",
    "    # print(df.columns)       # 컬럼명 출력\n",
    "    print(df.shape)         # (행 수, 열 수)\n",
    "\n",
    "    # bar 형 그래프 확인 후 저장\n",
    "    n = len(df['10HZ'])\n",
    "\n",
    "    # 2. 데이터를 Numpy array에 담아서 확인\n",
    "    rows, cols = len(df['10HZ']), len(keys_hz)\n",
    "    arr_d = np.zeros((rows, cols), dtype=np.float64)\n",
    "    \n",
    "    for i in range(len(df['10HZ'])):\n",
    "        for j, k in enumerate(keys_hz):\n",
    "            arr_d[i, j] = df[k][i]\n",
    "\n",
    "   \n",
    "    \n",
    "    for i in range(n):\n",
    "        path = dict_savename[d_name]\n",
    "        if not os.path.exists(path):\n",
    "            print(f\"{path} 가 없어서 새로 만듭니다.\")\n",
    "            os.makedirs(path)    \n",
    "        filename = f\"{path}/{dict_savename[d_name]}_{i}.png\"\n",
    "        \n",
    "        if os.path.exists(filename):\n",
    "            continue\n",
    "        \n",
    "        if (i+1)%10 ==0:\n",
    "            print(f\"{(i+1//10)*10} saving\")\n",
    "        \n",
    "        plt.figure(figsize=(12, 4))\n",
    "        plt.bar(keys_hz,arr_d[i], width=1.0, color=\"steelblue\")\n",
    "        plt.title(f\"Spectrum at lrate = {df[\"lrate\"][i]}%   leak level = {df[\"llevel\"][i]}\")\n",
    "        plt.xlabel(\"HZ\")\n",
    "        plt.ylabel(\"Value\")\n",
    "            \n",
    "        plt.savefig(filename, dpi=150, bbox_inches=\"tight\")\n",
    "        plt.close()\n",
    "    \n",
    "    \n"
   ]
  },
  {
   "cell_type": "code",
   "execution_count": null,
   "id": "3e8d51d8-9cd3-40b3-af6f-7d21fffce81f",
   "metadata": {},
   "outputs": [],
   "source": [
    "1+1"
   ]
  },
  {
   "cell_type": "code",
   "execution_count": null,
   "id": "6d96f350-41b3-4cd7-b63b-b94fdc3f923d",
   "metadata": {},
   "outputs": [],
   "source": []
  }
 ],
 "metadata": {
  "kernelspec": {
   "display_name": "Python 3 (ipykernel)",
   "language": "python",
   "name": "python3"
  },
  "language_info": {
   "codemirror_mode": {
    "name": "ipython",
    "version": 3
   },
   "file_extension": ".py",
   "mimetype": "text/x-python",
   "name": "python",
   "nbconvert_exporter": "python",
   "pygments_lexer": "ipython3",
   "version": "3.13.5"
  }
 },
 "nbformat": 4,
 "nbformat_minor": 5
}
